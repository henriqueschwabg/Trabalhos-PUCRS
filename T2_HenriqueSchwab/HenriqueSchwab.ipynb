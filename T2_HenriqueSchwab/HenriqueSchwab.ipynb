{
 "cells": [
  {
   "cell_type": "markdown",
   "metadata": {},
   "source": [
    "# Trabalho 2\n",
    "---\n",
    "\n",
    "## Especificações\n",
    "\n",
    "O trabalho deve ser relizado em **duplas**.\n",
    "\n",
    "### Entrega\n",
    "\n",
    "Após responder todas as questões, vocês devem certificar que seu Notebook está salvo com suas alterações (basta pressionar `ctrl + s` para salvar). Após salvar suas alterações, vocês devem realizar a entrega na sala de entrega do Moodle. A entrega deve ser feita da seguinte maneira:\n",
    "- Deve ser entregue um arquivo `zip` contendo este Notebook com as questões respondidas. O nome do arquivo deve seguir o padrão: `NomeSobrenome_NomeSobrenome.zip`\n",
    "- **Apenas um aluno da dupla deve fazer a entrega.**\n",
    "\n",
    "\n",
    "### Critérios de avaliação\n",
    "\n",
    "Cada questão será avaliada de acordo com os seguintes critérios:\n",
    "- Resolver o problema proposto: 70%\n",
    "- Utilizar código vetorizado: 20%\n",
    "- Escrever código simples e legível: 10%\n",
    "\n",
    "---\n",
    "\n",
    "## Enunciado\n",
    "\n",
    "Este trabalho consiste em explorar um conjunto de dados de Doenças crônicas nos rins (arquivo `kindey_disease.csv`). O conjunto de dados é formado por 400 observações (instâncias) e contém o seguintes atributos:\n",
    "\n",
    "|Atributo|Tipo|Categorias|Descrição|\n",
    "|:--|:--|:--|:--|\n",
    "|`id`|Numérico (Único)|-|Unique identifier|\n",
    "|`age`|Numérico|-|Age, in years|\n",
    "|`bp`|Numérico|-|Blood pressure (mm/Hg)|\n",
    "|`sg`|Categórico|1.005, 1.010, 1.015, 1.020, 1.025|Specific Gravity|\n",
    "|`al`|Categórico|0, 1, 2, 3, 4, 5|Albumin|\n",
    "|`su`|Categórico|0, 1, 2, 3, 4, 5|Sugar|\n",
    "|`rbc`|Categórico|normal, abnormal|Red blood cells|\n",
    "|`pc`|Categórico|normal, abnormal|Pus cell|\n",
    "|`pcc`|Categórico|present, notpresent|Pus cell clumps|\n",
    "|`ba`|Categórico|present, notpresent|Bacteria|\n",
    "|`bgr`|Numérico|-|Blood glucose random (mgs/dl)|\n",
    "|`bu`|Numérico|-|Blood urea (mgs/dl)|\n",
    "|`sc`|Numérico|-|Serum Creatinine (mgs/dl)|\n",
    "|`sod`|Numérico|-|Sodium (mEq/L)|\n",
    "|`pot`|Numérico|-|Potassium (mEq/L)|\n",
    "|`hemo`|Numérico|-|Hemoglobin (gms)|\n",
    "|`pcv`|Numérico|-|Packed cell volume|\n",
    "|`wc`|Numérico|-|White blood cell count (cells/cmm)|\n",
    "|`rc`|Numérico|-|Red blood cell count (millions/cmm)|\n",
    "|`htn`|Categórico|yes, no|Hypertension|\n",
    "|`dm`|Categórico|yes, no|Diabetes Mellitus|\n",
    "|`cad`|Categórico|yes, no|Coronary artery disease|\n",
    "|`appet`|Categórico|good, poor|Appetite|\n",
    "|`pe`|Categórico|yes, no|Pedal edema|\n",
    "|`ane`|Categórico|yes, no|Anemia|\n",
    "|`classification`|Categórico|ckd, notckd|Classification|\n",
    "\n",
    "\n",
    "Nas células abaixo, existem questões específicas sobre o conjunto de dados que devem ser respondidas.\n",
    "\n",
    "**Não é permitido importar nenhum módulo além dos que estão importados na célula abaixo.**"
   ]
  },
  {
   "cell_type": "code",
   "execution_count": 1,
   "metadata": {},
   "outputs": [],
   "source": [
    "%matplotlib inline\n",
    "import numpy as np\n",
    "import matplotlib.pyplot as plt\n",
    "import pandas as pd\n",
    "from IPython.display import display as print_dataframe\n",
    "\n",
    "from sklearn.model_selection import train_test_split\n",
    "from sklearn.preprocessing import MinMaxScaler\n",
    "from sklearn.neighbors import KNeighborsClassifier\n",
    "from sklearn.metrics import accuracy_score, f1_score, precision_score, recall_score"
   ]
  },
  {
   "cell_type": "markdown",
   "metadata": {},
   "source": [
    "## Questão 1 (3.0 pts)\n",
    "\n",
    "Leia o arquivo `kidney_disease.csv` e realize as seguintes operações de limpeza de dados:\n",
    "1. Remova as colunas `id` e `sg`.\n",
    "1. Remova todas as instâncias do conjunto de dados onde o o valor da coluna `rbc` estiver vazio.\n",
    "1. Renomeie as colunas, de forma a deixar mais claro o que cada coluna significa (e.g., renomear `bp` para `blood_pressure`). Se baseie nas informações sobre os atributos, disponibilizadas acima.\n",
    "1. Imprima o número de valores faltantes para **cada um** dos atributos. Estes valores devem estar em **percentual** e devem estar ordenados de maneira **decrescente**.\n",
    "1. Preencha os valores faltantes dos atributos **numéricos** com a **média** da respectiva coluna.\n",
    "1. Preencha os valores faltantes dos atributos **categóricos** com a **moda** (elemento mais frequente) da respectiva coluna."
   ]
  },
  {
   "cell_type": "code",
   "execution_count": 2,
   "metadata": {},
   "outputs": [
    {
     "name": "stdout",
     "output_type": "stream",
     "text": [
      "red_blood_cell_count       19.758065\n",
      "white_blood_cell_count     15.322581\n",
      "sodium                     13.306452\n",
      "potassium                  13.306452\n",
      "blood_glucose_random        9.274194\n",
      "packed_cell_volume          9.274194\n",
      "hemogloblin                 8.870968\n",
      "blood_urea                  5.241935\n",
      "serum_creatinine            4.032258\n",
      "pus_cell                    3.629032\n",
      "blood_pressure              2.822581\n",
      "age                         1.612903\n",
      "bacteria                    1.209677\n",
      "pus_cell_clumps             1.209677\n",
      "sugar                       1.209677\n",
      "albumin                     1.209677\n",
      "hypertension                0.806452\n",
      "diabetes_mellitus           0.806452\n",
      "coronary_artery_disease     0.806452\n",
      "anemia                      0.403226\n",
      "appetite                    0.403226\n",
      "pedal_edema                 0.403226\n",
      "red_blood_cells             0.000000\n",
      "classification              0.000000\n",
      "dtype: float64\n"
     ]
    }
   ],
   "source": [
    "########################\n",
    "# Inicio do seu codigo #\n",
    "########################\n",
    "\n",
    "file = 'kidney_disease.csv'\n",
    "df = pd.read_csv(file)\n",
    "\n",
    "pd.set_option('display.max_columns', None)\n",
    "\n",
    "# 1\n",
    "df.drop(columns=['id', 'sg'], inplace=True)\n",
    "\n",
    "# 2\n",
    "df.dropna(subset=['rbc'], inplace=True)\n",
    "\n",
    "# 3\n",
    "df.rename(columns={'bp': 'blood_pressure', 'al': 'albumin', \\\n",
    "                   'su': 'sugar', 'rbc': 'red_blood_cells', \\\n",
    "                   'pc': 'pus_cell', 'pcc': 'pus_cell_clumps', \\\n",
    "                   'ba': 'bacteria', 'bgr': 'blood_glucose_random', \\\n",
    "                   'bu': 'blood_urea', 'sc': 'serum_creatinine', \\\n",
    "                   'sod': 'sodium', 'pot': 'potassium', \\\n",
    "                   'hemo': 'hemogloblin', 'pcv': 'packed_cell_volume', \\\n",
    "                   'wc': 'white_blood_cell_count', 'rc': 'red_blood_cell_count', \\\n",
    "                   'htn': 'hypertension', 'dm': 'diabetes_mellitus', \\\n",
    "                   'cad': 'coronary_artery_disease', 'appet': 'appetite', \\\n",
    "                   'pe': 'pedal_edema', 'ane': 'anemia'}, inplace=True)\n",
    "\n",
    "# 4\n",
    "print((df.isnull().sum() / df.shape[0]).sort_values(ascending=False) * 100)\n",
    "\n",
    "# 5\n",
    "remove_cols = ['albumin', 'sugar']\n",
    "num_cols = [c for c in df.select_dtypes(['int', 'float']).columns.tolist() if c not in remove_cols]\n",
    "df[num_cols] = df[num_cols].fillna(df[num_cols].mean())\n",
    "\n",
    "# 6\n",
    "cat_cols = [c for c in df.columns.tolist() if c not in num_cols]\n",
    "df[cat_cols] = df[cat_cols].fillna(df[cat_cols].mode().iloc[0])\n",
    "\n",
    "########################\n",
    "#   Fim do seu codigo  #\n",
    "########################"
   ]
  },
  {
   "cell_type": "markdown",
   "metadata": {},
   "source": [
    "## Questão 2 (1.5 pts)\n",
    "\n",
    "Enunciado\n",
    "\n",
    "Realize as seguintes operações de visualização de dados:\n",
    "1. Plote um gráfico de barra para o atributo diabetes (nome original: `dm`).\n",
    "1. Plote um gráfico de dispersão com o atributo idade (nome original: `age`) no eixo X e o atributo hemoglobina (nome original: `hemo`) no eixo Y.\n",
    "1. Plote um gráfico de histograma para o atributo \"blood urea\" (nome original: `bu`) **somente** para as instâncias onde `age` está entre 30 e 60."
   ]
  },
  {
   "cell_type": "code",
   "execution_count": 3,
   "metadata": {},
   "outputs": [
    {
     "data": {
      "image/png": "[encoded data removed]",
      "text/plain": [
       "<Figure size 432x288 with 1 Axes>"
      ]
     },
     "metadata": {
      "needs_background": "light"
     },
     "output_type": "display_data"
    },
    {
     "data": {
      "image/png": "[encoded data removed]",
      "text/plain": [
       "<Figure size 432x288 with 1 Axes>"
      ]
     },
     "metadata": {
      "needs_background": "light"
     },
     "output_type": "display_data"
    },
    {
     "data": {
      "image/png": "[encoded data removed]",
      "text/plain": [
       "<Figure size 432x288 with 1 Axes>"
      ]
     },
     "metadata": {
      "needs_background": "light"
     },
     "output_type": "display_data"
    }
   ],
   "source": [
    "########################\n",
    "# Inicio do seu codigo #\n",
    "########################\n",
    "\n",
    "# 1\n",
    "df['diabetes_mellitus'].value_counts().plot(kind='bar')\n",
    "plt.title('Diabetes')\n",
    "plt.show()\n",
    "\n",
    "# 2\n",
    "\n",
    "plt.scatter(df['age'], df['hemogloblin'])\n",
    "plt.ylabel('Hemogloblin')\n",
    "plt.xlabel('Age')\n",
    "plt.show()\n",
    "\n",
    "# 3\n",
    "age_30_60 = ((df['age'] >= 30) & (df['age'] <= 60))\n",
    "df['blood_urea'][age_30_60].value_counts().plot()\n",
    "plt.title('Blood Urea (mgs/dl)')\n",
    "plt.show()\n",
    "\n",
    "########################\n",
    "#   Fim do seu codigo  #\n",
    "########################"
   ]
  },
  {
   "cell_type": "markdown",
   "metadata": {},
   "source": [
    "## Questão 3 (2.5 pts)\n",
    "\n",
    "Enunciado\n",
    "\n",
    "Responda às seguintes perguntas sobre o conjunto de dados:\n",
    "1. Quantas pessoas possuem pressão sanguínea (nome original: `bp`) entre 80 e 90 e apetite ruim (nome original: `appet`)?\n",
    "1. Quantas pessoas com idade (nome original: `age`) igual ou maior que 40 possuem doença (nome original: `classification`)?\n",
    "1. Qual a idade média das pessoas com anemia (nome original: `ane`) e com contagem de glóbulos brancos (nome original: `wc`) maior ou igual a 12.000?\n",
    "1. Quantas pessoas com hipertensão (nome original: `htn`) possuem uma contagem de glóbulos vermelhos (nome original: `rbc`) normal?\n",
    "1. Qual a média dos atributos blood urea (nome original: `bu`) , sodium (nome original: `sod`) e potassium (nome original: `pot`), para pessoas **com e sem** doença arterial coronária (nome original: `cad`)?"
   ]
  },
  {
   "cell_type": "code",
   "execution_count": 4,
   "metadata": {},
   "outputs": [
    {
     "name": "stdout",
     "output_type": "stream",
     "text": [
      "17 pessoas possuem pressão sanguínea entre 80 e 90 e apetite ruim.\n",
      "\n",
      "91 pessoas com idade igual ou maior que 40 possuem doença no rim.\n",
      "\n",
      "56.44 é a idade média das pessoas com anemia e com contagem de glóbulos brancos maior ou igual a 12.000.\n",
      "\n",
      "41 pessoas com hipertensão possuem uma contagem de glóbulos vermelhos normal.\n",
      "\n",
      "Médias das pessoas com doença arterial coronária:\n",
      "blood_urea    111.205282\n",
      "sodium        133.146922\n",
      "potassium       4.590616\n",
      "dtype: float64\n",
      "\n",
      "Médias das pessoas sem doença arterial coronária:\n",
      "blood_urea     53.966136\n",
      "sodium        138.891453\n",
      "potassium       4.751493\n",
      "dtype: float64\n",
      "\n",
      "Médias de todas as pessoas:\n",
      "blood_urea     57.889787\n",
      "sodium        138.497674\n",
      "potassium       4.740465\n",
      "dtype: float64\n"
     ]
    }
   ],
   "source": [
    "########################\n",
    "# Inicio do seu codigo #\n",
    "########################\n",
    "\n",
    "# 1\n",
    "bp_appet = df[((df['blood_pressure'] >= 80) & (df['blood_pressure'] <= 90)) & (df['appetite'] == 'poor')].shape[0]\n",
    "print(f'{bp_appet} pessoas possuem pressão sanguínea entre 80 e 90 e apetite ruim.')\n",
    "print()\n",
    "\n",
    "# 2\n",
    "age_classification = df[(df['age'] >= 40) & (df['classification'] == 'ckd')].shape[0]\n",
    "print(f'{age_classification} pessoas com idade igual ou maior que 40 possuem doença no rim.')\n",
    "print()\n",
    "\n",
    "# 3\n",
    "ane_wc = (df['anemia'] == 'yes') & (df['white_blood_cell_count'] >= 12000)\n",
    "avg_age = round(df['age'][ane_wc].mean(), 2)\n",
    "print(f'{avg_age} é a idade média das pessoas com anemia e com contagem de glóbulos brancos maior ou igual a 12.000.')\n",
    "print()\n",
    "\n",
    "# 4\n",
    "ane_wc = df[(df['hypertension'] == 'yes') & (df['red_blood_cells'] == 'normal')].shape[0]\n",
    "print(f'{ane_wc} pessoas com hipertensão possuem uma contagem de glóbulos vermelhos normal.')\n",
    "print()\n",
    "\n",
    "# 5\n",
    "has_disease = (df['coronary_artery_disease'] == 'yes')\n",
    "no_disease = (df['coronary_artery_disease'] == 'no')\n",
    "\n",
    "print(f\"Médias das pessoas com doença arterial coronária:\\n{df[['blood_urea', 'sodium', 'potassium']][has_disease].mean()}\")\n",
    "print()\n",
    "print(f\"Médias das pessoas sem doença arterial coronária:\\n{df[['blood_urea', 'sodium', 'potassium']][no_disease].mean()}\")\n",
    "print()\n",
    "print(f\"Médias de todas as pessoas:\\n{df[['blood_urea', 'sodium', 'potassium']].mean()}\")\n",
    "\n",
    "########################\n",
    "#   Fim do seu codigo  #\n",
    "########################"
   ]
  },
  {
   "cell_type": "markdown",
   "metadata": {},
   "source": [
    "## Questão 4 (3.0 pts)\n",
    "\n",
    "Realize as seguintes operações para treinar um modelo de classificação:\n",
    "1. Substitua os valores das variáveis categóricas para valores numéricos da seguinte forma:\n",
    "\n",
    "|Atributo(s)|Substituições|\n",
    "|:--|:--|\n",
    "|`htn`, `dm`, `cad`, `pe`, `ane`|`no`: 0<br>`yes`: 1|\n",
    "|`rbc`, `pc`|`normal`: 0<br>`abnormal`: 1|\n",
    "|`pcc`, `ba`|`notpresent`: 0<br>`present`: 1|\n",
    "|`appet`|`poor`: 0<br>`good`: 1|\n",
    "|`classification`|`notckd`: 0<br>`ckd`: 1|\n",
    "\n",
    "2. Separe as colunas dos atributos (features) da coluna de anotação (label)\n",
    "1. Separe o conjunto de dados em conjuntos de treino e teste, usando uma proporção de 70% para treino e 30% para teste.\n",
    "1. Normalize os atributos utilizando a estratégia `MinMaxScaler` do Scikit-Learn (não se esqueça de normalizar os dados de teste também!).\n",
    "1. Treine um modelo de classificação k-NN, com `k=5`.\n",
    "1. Avalie o desempenho do modelo utilizando os dados de teste e a medida `accuracy_score`."
   ]
  },
  {
   "cell_type": "code",
   "execution_count": 5,
   "metadata": {},
   "outputs": [
    {
     "name": "stdout",
     "output_type": "stream",
     "text": [
      "Acurácia: 97.33%\n"
     ]
    }
   ],
   "source": [
    "########################\n",
    "# Inicio do seu codigo #\n",
    "########################\n",
    "\n",
    "# 1\n",
    "df[cat_cols] = df[cat_cols].astype('category')\n",
    "# print(df[cat_cols].nunique())\n",
    "# print(df['classification'].value_counts())\n",
    "\n",
    "df[cat_cols] = df[cat_cols].replace({'no': 0, 'normal': 0, 'notpresent': 0, 'poor': 0, 'notckd': 0, \\\n",
    "                       'yes': 1, 'abnormal': 1, 'present': 1, 'good': 1, 'ckd': 1})\n",
    "\n",
    "# 2\n",
    "df = pd.get_dummies(df, columns=remove_cols)\n",
    "\n",
    "# 3\n",
    "X = df.drop('classification', axis=1)\n",
    "y = df['classification']\n",
    "\n",
    "X_train, X_test, y_train, y_test = train_test_split(X, y, test_size = 0.30, stratify = y, shuffle = True)\n",
    "\n",
    "# 4\n",
    "scaler = MinMaxScaler().fit(X_train)\n",
    "X_train = scaler.transform(X_train)\n",
    "X_test = scaler.transform(X_test)\n",
    "\n",
    "# 5\n",
    "classifier = KNeighborsClassifier(n_neighbors=5)\n",
    "classifier.fit(X_train, y_train)\n",
    "y_pred = classifier.predict(X_test)\n",
    "\n",
    "# 6\n",
    "accuracy = accuracy_score(y_test, y_pred)\n",
    "print(f'Acurácia: {accuracy*100:.2f}%')\n",
    "\n",
    "########################\n",
    "#   Fim do seu codigo  #\n",
    "########################"
   ]
  },
  {
   "cell_type": "markdown",
   "metadata": {},
   "source": [
    "## Questão 5 - Bônus (1.0 pts)\n",
    "\n",
    "Dado o processamento realizado na questão anterior, treine um conjunto de modelos de classificação k-NN com `k` variando de 1 a 25 (de 1 em 1) e avalie os desempenhos dos modelos utilizando as métricas `accuracy_score` e `f1_score`. Em seguida, realize a plotagem dos valores destas métricas como um gráfico de linha (ambas as métricas no mesmo gráfico, eixo X representando valores de `k` e eixo Y representando os valores das métricas)."
   ]
  },
  {
   "cell_type": "code",
   "execution_count": 6,
   "metadata": {},
   "outputs": [
    {
     "data": {
      "image/png": "[encoded data removed]",
      "text/plain": [
       "<Figure size 432x288 with 1 Axes>"
      ]
     },
     "metadata": {
      "needs_background": "light"
     },
     "output_type": "display_data"
    }
   ],
   "source": [
    "########################\n",
    "# Inicio do seu codigo #\n",
    "########################\n",
    "\n",
    "X_train, X_test, y_train, y_test = train_test_split(X, y, test_size = 0.30, stratify = y, shuffle = True)\n",
    "\n",
    "scaler = MinMaxScaler().fit(X_train)\n",
    "X_train = scaler.transform(X_train)\n",
    "X_test = scaler.transform(X_test)\n",
    "\n",
    "# 1\n",
    "accs = []\n",
    "f1s = []\n",
    "\n",
    "for k in np.arange(1, 26):\n",
    "    classifier = KNeighborsClassifier(n_neighbors=k)\n",
    "    classifier.fit(X_train, y_train)\n",
    "    y_pred = classifier.predict(X_test)\n",
    "    acc = accuracy_score(y_test, y_pred)\n",
    "    accs.append(acc)\n",
    "    f1 = f1_score(y_test, y_pred)\n",
    "    f1s.append(f1)\n",
    "    \n",
    "df_new = pd.DataFrame({'accuracy': accs, 'f1': f1s})\n",
    "# print_dataframe(df_new)\n",
    "\n",
    "# 2\n",
    "df_new.plot(y=['accuracy', 'f1'])\n",
    "plt.ylabel('Scores')\n",
    "plt.xlabel('Number of Neighbors')\n",
    "plt.show()\n",
    "    \n",
    "########################\n",
    "#   Fim do seu codigo  #\n",
    "########################"
   ]
  },
  {
   "cell_type": "code",
   "execution_count": null,
   "metadata": {},
   "outputs": [],
   "source": []
  }
 ],
 "metadata": {
  "kernelspec": {
   "display_name": "Python 3",
   "language": "python",
   "name": "python3"
  },
  "language_info": {
   "codemirror_mode": {
    "name": "ipython",
    "version": 3
   },
   "file_extension": ".py",
   "mimetype": "text/x-python",
   "name": "python",
   "nbconvert_exporter": "python",
   "pygments_lexer": "ipython3",
   "version": "3.8.3"
  }
 },
 "nbformat": 4,
 "nbformat_minor": 4
}
