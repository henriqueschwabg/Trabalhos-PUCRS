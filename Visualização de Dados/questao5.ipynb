{
 "cells": [
  {
   "cell_type": "code",
   "execution_count": 1,
   "metadata": {},
   "outputs": [],
   "source": [
    "import pandas as pd\n",
    "import seaborn as sns"
   ]
  },
  {
   "cell_type": "code",
   "execution_count": 2,
   "metadata": {},
   "outputs": [],
   "source": [
    "file = 'datasets/df_causas_violentas.csv'\n",
    "df = pd.read_csv(file)"
   ]
  },
  {
   "cell_type": "code",
   "execution_count": 3,
   "metadata": {},
   "outputs": [
    {
     "data": {
      "text/html": [
       "<div>\n",
       "<style scoped>\n",
       "    .dataframe tbody tr th:only-of-type {\n",
       "        vertical-align: middle;\n",
       "    }\n",
       "\n",
       "    .dataframe tbody tr th {\n",
       "        vertical-align: top;\n",
       "    }\n",
       "\n",
       "    .dataframe thead th {\n",
       "        text-align: right;\n",
       "    }\n",
       "</style>\n",
       "<table border=\"1\" class=\"dataframe\">\n",
       "  <thead>\n",
       "    <tr style=\"text-align: right;\">\n",
       "      <th></th>\n",
       "      <th>cod_uf</th>\n",
       "      <th>UF</th>\n",
       "      <th>ano</th>\n",
       "      <th>ordem</th>\n",
       "      <th>cod_causa</th>\n",
       "      <th>quantidade</th>\n",
       "      <th>descricao</th>\n",
       "    </tr>\n",
       "  </thead>\n",
       "  <tbody>\n",
       "    <tr>\n",
       "      <th>0</th>\n",
       "      <td>11</td>\n",
       "      <td>Rondônia</td>\n",
       "      <td>2008</td>\n",
       "      <td>1</td>\n",
       "      <td>X95</td>\n",
       "      <td>259</td>\n",
       "      <td>Agressão por meio de disparo de outra arma de ...</td>\n",
       "    </tr>\n",
       "    <tr>\n",
       "      <th>1</th>\n",
       "      <td>11</td>\n",
       "      <td>Rondônia</td>\n",
       "      <td>2008</td>\n",
       "      <td>2</td>\n",
       "      <td>V89</td>\n",
       "      <td>227</td>\n",
       "      <td>Acidente com um veículo a motor ou não-motoriz...</td>\n",
       "    </tr>\n",
       "    <tr>\n",
       "      <th>2</th>\n",
       "      <td>11</td>\n",
       "      <td>Rondônia</td>\n",
       "      <td>2008</td>\n",
       "      <td>3</td>\n",
       "      <td>X99</td>\n",
       "      <td>110</td>\n",
       "      <td>Agressão por meio de objeto cortante ou penetr...</td>\n",
       "    </tr>\n",
       "    <tr>\n",
       "      <th>3</th>\n",
       "      <td>11</td>\n",
       "      <td>Rondônia</td>\n",
       "      <td>2008</td>\n",
       "      <td>4</td>\n",
       "      <td>W74</td>\n",
       "      <td>60</td>\n",
       "      <td>Afogamento e submersão não especificados</td>\n",
       "    </tr>\n",
       "    <tr>\n",
       "      <th>4</th>\n",
       "      <td>11</td>\n",
       "      <td>Rondônia</td>\n",
       "      <td>2008</td>\n",
       "      <td>5</td>\n",
       "      <td>X70</td>\n",
       "      <td>41</td>\n",
       "      <td>Lesão autoprovocada intencionalmente por enfor...</td>\n",
       "    </tr>\n",
       "  </tbody>\n",
       "</table>\n",
       "</div>"
      ],
      "text/plain": [
       "   cod_uf        UF   ano  ordem cod_causa  quantidade  \\\n",
       "0      11  Rondônia  2008      1       X95         259   \n",
       "1      11  Rondônia  2008      2       V89         227   \n",
       "2      11  Rondônia  2008      3       X99         110   \n",
       "3      11  Rondônia  2008      4       W74          60   \n",
       "4      11  Rondônia  2008      5       X70          41   \n",
       "\n",
       "                                           descricao  \n",
       "0  Agressão por meio de disparo de outra arma de ...  \n",
       "1  Acidente com um veículo a motor ou não-motoriz...  \n",
       "2  Agressão por meio de objeto cortante ou penetr...  \n",
       "3           Afogamento e submersão não especificados  \n",
       "4  Lesão autoprovocada intencionalmente por enfor...  "
      ]
     },
     "execution_count": 3,
     "metadata": {},
     "output_type": "execute_result"
    }
   ],
   "source": [
    "df.head()"
   ]
  },
  {
   "cell_type": "code",
   "execution_count": 4,
   "metadata": {},
   "outputs": [],
   "source": [
    "# Quais as principais causas (CID-10) de mortes violentas por estado?"
   ]
  },
  {
   "cell_type": "code",
   "execution_count": 5,
   "metadata": {},
   "outputs": [],
   "source": [
    "grouped = df[df['UF'] == 'Acre'].groupby(['UF', 'descricao']).quantidade.sum().reset_index()"
   ]
  },
  {
   "cell_type": "code",
   "execution_count": 6,
   "metadata": {},
   "outputs": [
    {
     "data": {
      "text/plain": [
       "(19, 3)"
      ]
     },
     "execution_count": 6,
     "metadata": {},
     "output_type": "execute_result"
    }
   ],
   "source": [
    "grouped.shape"
   ]
  },
  {
   "cell_type": "code",
   "execution_count": 7,
   "metadata": {},
   "outputs": [],
   "source": [
    "df_new = pd.DataFrame(grouped)"
   ]
  },
  {
   "cell_type": "code",
   "execution_count": 8,
   "metadata": {},
   "outputs": [
    {
     "data": {
      "text/plain": [
       "(19, 3)"
      ]
     },
     "execution_count": 8,
     "metadata": {},
     "output_type": "execute_result"
    }
   ],
   "source": [
    "df_new.shape"
   ]
  },
  {
   "cell_type": "code",
   "execution_count": 9,
   "metadata": {},
   "outputs": [
    {
     "data": {
      "text/html": [
       "<div>\n",
       "<style scoped>\n",
       "    .dataframe tbody tr th:only-of-type {\n",
       "        vertical-align: middle;\n",
       "    }\n",
       "\n",
       "    .dataframe tbody tr th {\n",
       "        vertical-align: top;\n",
       "    }\n",
       "\n",
       "    .dataframe thead th {\n",
       "        text-align: right;\n",
       "    }\n",
       "</style>\n",
       "<table border=\"1\" class=\"dataframe\">\n",
       "  <thead>\n",
       "    <tr style=\"text-align: right;\">\n",
       "      <th></th>\n",
       "      <th>UF</th>\n",
       "      <th>descricao</th>\n",
       "      <th>quantidade</th>\n",
       "    </tr>\n",
       "  </thead>\n",
       "  <tbody>\n",
       "    <tr>\n",
       "      <th>0</th>\n",
       "      <td>Acre</td>\n",
       "      <td>Acidente com um veículo a motor ou não-motoriz...</td>\n",
       "      <td>757</td>\n",
       "    </tr>\n",
       "    <tr>\n",
       "      <th>1</th>\n",
       "      <td>Acre</td>\n",
       "      <td>Afogamento e submersão em águas naturais</td>\n",
       "      <td>95</td>\n",
       "    </tr>\n",
       "    <tr>\n",
       "      <th>2</th>\n",
       "      <td>Acre</td>\n",
       "      <td>Afogamento e submersão não especificados</td>\n",
       "      <td>212</td>\n",
       "    </tr>\n",
       "    <tr>\n",
       "      <th>3</th>\n",
       "      <td>Acre</td>\n",
       "      <td>Afogamento e submersão relacionados com transp...</td>\n",
       "      <td>5</td>\n",
       "    </tr>\n",
       "    <tr>\n",
       "      <th>4</th>\n",
       "      <td>Acre</td>\n",
       "      <td>Agressão por meio de disparo de arma de fogo d...</td>\n",
       "      <td>130</td>\n",
       "    </tr>\n",
       "    <tr>\n",
       "      <th>5</th>\n",
       "      <td>Acre</td>\n",
       "      <td>Agressão por meio de disparo de outra arma de ...</td>\n",
       "      <td>1326</td>\n",
       "    </tr>\n",
       "    <tr>\n",
       "      <th>6</th>\n",
       "      <td>Acre</td>\n",
       "      <td>Agressão por meio de força corporal</td>\n",
       "      <td>19</td>\n",
       "    </tr>\n",
       "    <tr>\n",
       "      <th>7</th>\n",
       "      <td>Acre</td>\n",
       "      <td>Agressão por meio de objeto cortante ou penetr...</td>\n",
       "      <td>880</td>\n",
       "    </tr>\n",
       "    <tr>\n",
       "      <th>8</th>\n",
       "      <td>Acre</td>\n",
       "      <td>Agressão por meio de um objeto contundente</td>\n",
       "      <td>153</td>\n",
       "    </tr>\n",
       "    <tr>\n",
       "      <th>9</th>\n",
       "      <td>Acre</td>\n",
       "      <td>Exposição a corrente elétrica não especificada</td>\n",
       "      <td>91</td>\n",
       "    </tr>\n",
       "    <tr>\n",
       "      <th>10</th>\n",
       "      <td>Acre</td>\n",
       "      <td>Impacto causado por objeto lançado, projetado ...</td>\n",
       "      <td>10</td>\n",
       "    </tr>\n",
       "    <tr>\n",
       "      <th>11</th>\n",
       "      <td>Acre</td>\n",
       "      <td>Lesão autoprovocada intencionalmente por dispa...</td>\n",
       "      <td>4</td>\n",
       "    </tr>\n",
       "    <tr>\n",
       "      <th>12</th>\n",
       "      <td>Acre</td>\n",
       "      <td>Lesão autoprovocada intencionalmente por enfor...</td>\n",
       "      <td>375</td>\n",
       "    </tr>\n",
       "    <tr>\n",
       "      <th>13</th>\n",
       "      <td>Acre</td>\n",
       "      <td>Motociclista traumatizado em colisão com um au...</td>\n",
       "      <td>61</td>\n",
       "    </tr>\n",
       "    <tr>\n",
       "      <th>14</th>\n",
       "      <td>Acre</td>\n",
       "      <td>Outras quedas no mesmo nível</td>\n",
       "      <td>120</td>\n",
       "    </tr>\n",
       "    <tr>\n",
       "      <th>15</th>\n",
       "      <td>Acre</td>\n",
       "      <td>Outros acidentes de transporte por água e os n...</td>\n",
       "      <td>5</td>\n",
       "    </tr>\n",
       "    <tr>\n",
       "      <th>16</th>\n",
       "      <td>Acre</td>\n",
       "      <td>Pedestre traumatizado em colisão com um automó...</td>\n",
       "      <td>8</td>\n",
       "    </tr>\n",
       "    <tr>\n",
       "      <th>17</th>\n",
       "      <td>Acre</td>\n",
       "      <td>Queda no mesmo nível por escorregão, tropeção ...</td>\n",
       "      <td>15</td>\n",
       "    </tr>\n",
       "    <tr>\n",
       "      <th>18</th>\n",
       "      <td>Acre</td>\n",
       "      <td>Queda sem especificação</td>\n",
       "      <td>39</td>\n",
       "    </tr>\n",
       "  </tbody>\n",
       "</table>\n",
       "</div>"
      ],
      "text/plain": [
       "      UF                                          descricao  quantidade\n",
       "0   Acre  Acidente com um veículo a motor ou não-motoriz...         757\n",
       "1   Acre           Afogamento e submersão em águas naturais          95\n",
       "2   Acre           Afogamento e submersão não especificados         212\n",
       "3   Acre  Afogamento e submersão relacionados com transp...           5\n",
       "4   Acre  Agressão por meio de disparo de arma de fogo d...         130\n",
       "5   Acre  Agressão por meio de disparo de outra arma de ...        1326\n",
       "6   Acre                Agressão por meio de força corporal          19\n",
       "7   Acre  Agressão por meio de objeto cortante ou penetr...         880\n",
       "8   Acre         Agressão por meio de um objeto contundente         153\n",
       "9   Acre     Exposição a corrente elétrica não especificada          91\n",
       "10  Acre  Impacto causado por objeto lançado, projetado ...          10\n",
       "11  Acre  Lesão autoprovocada intencionalmente por dispa...           4\n",
       "12  Acre  Lesão autoprovocada intencionalmente por enfor...         375\n",
       "13  Acre  Motociclista traumatizado em colisão com um au...          61\n",
       "14  Acre                       Outras quedas no mesmo nível         120\n",
       "15  Acre  Outros acidentes de transporte por água e os n...           5\n",
       "16  Acre  Pedestre traumatizado em colisão com um automó...           8\n",
       "17  Acre  Queda no mesmo nível por escorregão, tropeção ...          15\n",
       "18  Acre                            Queda sem especificação          39"
      ]
     },
     "execution_count": 9,
     "metadata": {},
     "output_type": "execute_result"
    }
   ],
   "source": [
    "df_new"
   ]
  },
  {
   "cell_type": "code",
   "execution_count": null,
   "metadata": {},
   "outputs": [],
   "source": []
  }
 ],
 "metadata": {
  "kernelspec": {
   "display_name": "Python 3",
   "language": "python",
   "name": "python3"
  },
  "language_info": {
   "codemirror_mode": {
    "name": "ipython",
    "version": 3
   },
   "file_extension": ".py",
   "mimetype": "text/x-python",
   "name": "python",
   "nbconvert_exporter": "python",
   "pygments_lexer": "ipython3",
   "version": "3.8.3"
  }
 },
 "nbformat": 4,
 "nbformat_minor": 4
}
