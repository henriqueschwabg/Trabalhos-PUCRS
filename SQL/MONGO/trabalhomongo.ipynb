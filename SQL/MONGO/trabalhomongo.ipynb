{
 "cells": [
  {
   "cell_type": "code",
   "execution_count": 1,
   "metadata": {},
   "outputs": [],
   "source": [
    "import pymongo\n",
    "import pandas as pd"
   ]
  },
  {
   "cell_type": "code",
   "execution_count": 2,
   "metadata": {},
   "outputs": [],
   "source": [
    "user = 'Estudante'\n",
    "pwd = 'Estudante20202'\n",
    "connection_string = 'mongodb+srv://{}:{}@bdrnr.mw4lf.mongodb.net/bdrnr_db?retryWrites=true&w=majority'.format(user, pwd)\n",
    "client = pymongo.MongoClient(connection_string)\n",
    "db = client.bdrnr_db"
   ]
  },
  {
   "cell_type": "markdown",
   "metadata": {},
   "source": [
    "1- Para nascidos neste século (DATA_NASCIMENTO > \"2001\"), listar AGENTE_CAUSADOR_ACIDENTE, DATA_NASCIMENTO e SEXO, ordenados por DATA_NASCIMENTO descendente, SEXO e AGENTE_CAUSADOR_ACIDENTE."
   ]
  },
  {
   "cell_type": "code",
   "execution_count": 5,
   "metadata": {},
   "outputs": [
    {
     "data": {
      "text/html": [
       "<div>\n",
       "<style scoped>\n",
       "    .dataframe tbody tr th:only-of-type {\n",
       "        vertical-align: middle;\n",
       "    }\n",
       "\n",
       "    .dataframe tbody tr th {\n",
       "        vertical-align: top;\n",
       "    }\n",
       "\n",
       "    .dataframe thead th {\n",
       "        text-align: right;\n",
       "    }\n",
       "</style>\n",
       "<table border=\"1\" class=\"dataframe\">\n",
       "  <thead>\n",
       "    <tr style=\"text-align: right;\">\n",
       "      <th></th>\n",
       "      <th>AGENTE_CAUSADOR_ACIDENTE</th>\n",
       "      <th>SEXO</th>\n",
       "      <th>DATA_NASCIMENTO</th>\n",
       "    </tr>\n",
       "  </thead>\n",
       "  <tbody>\n",
       "    <tr>\n",
       "      <th>0</th>\n",
       "      <td>Veiculo, Nic</td>\n",
       "      <td>Masculino</td>\n",
       "      <td>2004-07-14</td>\n",
       "    </tr>\n",
       "    <tr>\n",
       "      <th>1</th>\n",
       "      <td>Queda de Pes. em Mes</td>\n",
       "      <td>Feminino</td>\n",
       "      <td>2003-01-27</td>\n",
       "    </tr>\n",
       "    <tr>\n",
       "      <th>2</th>\n",
       "      <td>Empilhadeira</td>\n",
       "      <td>Masculino</td>\n",
       "      <td>2002-04-13</td>\n",
       "    </tr>\n",
       "    <tr>\n",
       "      <th>3</th>\n",
       "      <td>Caixa, Engradado, Ca</td>\n",
       "      <td>Masculino</td>\n",
       "      <td>2002-01-17</td>\n",
       "    </tr>\n",
       "    <tr>\n",
       "      <th>4</th>\n",
       "      <td>Tesoura, Tesourao- F</td>\n",
       "      <td>Masculino</td>\n",
       "      <td>2002-01-03</td>\n",
       "    </tr>\n",
       "    <tr>\n",
       "      <th>5</th>\n",
       "      <td>Superficie e Estrutu</td>\n",
       "      <td>Masculino</td>\n",
       "      <td>2001-09-11</td>\n",
       "    </tr>\n",
       "    <tr>\n",
       "      <th>6</th>\n",
       "      <td>Metal - Inclui Liga</td>\n",
       "      <td>Masculino</td>\n",
       "      <td>2001-09-09</td>\n",
       "    </tr>\n",
       "    <tr>\n",
       "      <th>7</th>\n",
       "      <td>Escada Permanente Cu</td>\n",
       "      <td>Feminino</td>\n",
       "      <td>2001-07-28</td>\n",
       "    </tr>\n",
       "    <tr>\n",
       "      <th>8</th>\n",
       "      <td>Escada Permanente Cu</td>\n",
       "      <td>Feminino</td>\n",
       "      <td>2001-06-29</td>\n",
       "    </tr>\n",
       "    <tr>\n",
       "      <th>9</th>\n",
       "      <td>Faca, Facao- Ferrame</td>\n",
       "      <td>Masculino</td>\n",
       "      <td>2001-05-27</td>\n",
       "    </tr>\n",
       "    <tr>\n",
       "      <th>10</th>\n",
       "      <td>Vidraria, Fibra de V</td>\n",
       "      <td>Masculino</td>\n",
       "      <td>2001-05-13</td>\n",
       "    </tr>\n",
       "    <tr>\n",
       "      <th>11</th>\n",
       "      <td>Escada Permanente Cu</td>\n",
       "      <td>Masculino</td>\n",
       "      <td>2001-03-13</td>\n",
       "    </tr>\n",
       "    <tr>\n",
       "      <th>12</th>\n",
       "      <td>Faca, Facao- Ferrame</td>\n",
       "      <td>Feminino</td>\n",
       "      <td>2001-02-06</td>\n",
       "    </tr>\n",
       "    <tr>\n",
       "      <th>13</th>\n",
       "      <td>Corda, Cabo, Corrent</td>\n",
       "      <td>Masculino</td>\n",
       "      <td>2001-02-03</td>\n",
       "    </tr>\n",
       "    <tr>\n",
       "      <th>14</th>\n",
       "      <td>Arquivo, Fichario, E</td>\n",
       "      <td>Feminino</td>\n",
       "      <td>2001-01-30</td>\n",
       "    </tr>\n",
       "    <tr>\n",
       "      <th>15</th>\n",
       "      <td>Madeira (Toro, Madei</td>\n",
       "      <td>Feminino</td>\n",
       "      <td>2001-01-24</td>\n",
       "    </tr>\n",
       "    <tr>\n",
       "      <th>16</th>\n",
       "      <td>Equip. Eletrico, Nic</td>\n",
       "      <td>Feminino</td>\n",
       "      <td>2001-01-01</td>\n",
       "    </tr>\n",
       "  </tbody>\n",
       "</table>\n",
       "</div>"
      ],
      "text/plain": [
       "   AGENTE_CAUSADOR_ACIDENTE       SEXO DATA_NASCIMENTO\n",
       "0              Veiculo, Nic  Masculino      2004-07-14\n",
       "1      Queda de Pes. em Mes   Feminino      2003-01-27\n",
       "2              Empilhadeira  Masculino      2002-04-13\n",
       "3      Caixa, Engradado, Ca  Masculino      2002-01-17\n",
       "4      Tesoura, Tesourao- F  Masculino      2002-01-03\n",
       "5      Superficie e Estrutu  Masculino      2001-09-11\n",
       "6       Metal - Inclui Liga  Masculino      2001-09-09\n",
       "7      Escada Permanente Cu   Feminino      2001-07-28\n",
       "8      Escada Permanente Cu   Feminino      2001-06-29\n",
       "9      Faca, Facao- Ferrame  Masculino      2001-05-27\n",
       "10     Vidraria, Fibra de V  Masculino      2001-05-13\n",
       "11     Escada Permanente Cu  Masculino      2001-03-13\n",
       "12     Faca, Facao- Ferrame   Feminino      2001-02-06\n",
       "13     Corda, Cabo, Corrent  Masculino      2001-02-03\n",
       "14     Arquivo, Fichario, E   Feminino      2001-01-30\n",
       "15     Madeira (Toro, Madei   Feminino      2001-01-24\n",
       "16     Equip. Eletrico, Nic   Feminino      2001-01-01"
      ]
     },
     "execution_count": 5,
     "metadata": {},
     "output_type": "execute_result"
    }
   ],
   "source": [
    "resultado = db.G01.find( { 'DATA_NASCIMENTO': { '$gt': '2001' } },\n",
    "                         { 'AGENTE_CAUSADOR_ACIDENTE':1,\n",
    "                           'DATA_NASCIMENTO':1,\n",
    "                           'SEXO':1,\n",
    "                           '_id':0 }\n",
    "                       ).sort([('DATA_NASCIMENTO', -1),\n",
    "                               ('SEXO', 1),\n",
    "                               ('AGENTE_CAUSADOR_ACIDENTE', 1)])\n",
    "\n",
    "df = pd.DataFrame(list(resultado))\n",
    "df"
   ]
  },
  {
   "cell_type": "markdown",
   "metadata": {},
   "source": [
    "2- Ordenados por número de acidentes em ordem decrescente, listar MUNICIPIO, POPULACAO e número de acidentes, dos 20 municípios com mais acidentes."
   ]
  },
  {
   "cell_type": "code",
   "execution_count": 6,
   "metadata": {},
   "outputs": [
    {
     "name": "stdout",
     "output_type": "stream",
     "text": [
      "Município           \tPopulação \tNúmero de Acidentes \n",
      "____________________\t__________\t____________________\n",
      "Porto Alegre        \t   1479101\t                 297\n",
      "Caxias do Sul       \t    504069\t                 107\n",
      "Passo Fundo         \t    201767\t                  63\n",
      "Canoas              \t    344957\t                  43\n",
      "Santa Maria         \t    280505\t                  40\n",
      "Erechim             \t    105059\t                  35\n",
      "Lajeado             \t     82951\t                  34\n",
      "Sao Leopoldo        \t    234947\t                  31\n",
      "Gravatai            \t    279398\t                  29\n",
      "Santa Cruz do Sul   \t    129427\t                  26\n",
      "Marau               \t     43435\t                  22\n",
      "Novo Hamburgo       \t    246452\t                  20\n",
      "Rio Grande          \t    210005\t                  19\n",
      "Cachoeirinha        \t    129307\t                  19\n",
      "Bento Gonçalves     \t    119049\t                  17\n",
      "Santa Rosa          \t     72919\t                  16\n",
      "Carazinho           \t     61949\t                  16\n",
      "Esteio              \t     83121\t                  15\n",
      "Farroupilha         \t     71570\t                  14\n",
      "Ijui                \t     83173\t                  14\n"
     ]
    }
   ],
   "source": [
    "resultado = db.G01.aggregate([\n",
    "                        {\"$group\":{\"_id\": {\"MUNICIPIO\":\"$MUNICIPIO\", \n",
    "                                           \"POPULACAO\":\"$POPULACAO\"},\n",
    "                                   \"NUMACIDS\": {\"$sum\":1}}},\n",
    "                        {\"$sort\":{\"NUMACIDS\" : -1}},\n",
    "                        {\"$limit\":20} ])\n",
    "\n",
    "print(\"{:20}\\t{:10}\\t{:20}\".format(\"Município\", \"População\", \"Número de Acidentes\" ))\n",
    "print(\"{:_<20}\\t{:_<10}\\t{:_<20}\".format(\"_\", \"_\", \"_\"))\n",
    "for documento in resultado:    \n",
    "    print(\"{:20}\\t{:10}\\t{:20}\".format(\n",
    "            documento[\"_id\"][\"MUNICIPIO\"],\n",
    "            documento[\"_id\"][\"POPULACAO\"],\n",
    "            documento[\"NUMACIDS\"]))"
   ]
  },
  {
   "cell_type": "markdown",
   "metadata": {},
   "source": [
    "3- Ordenados em ordem decrescente por número de acidentes, listar as 15 primeiras denominações das atividades econômicas (CNAE_DENOMINACAO), municípios e número de acidentes. (dica, agrupar por CNAE_DENOMINACAO e MUNICIPIO)"
   ]
  },
  {
   "cell_type": "code",
   "execution_count": 9,
   "metadata": {},
   "outputs": [
    {
     "name": "stdout",
     "output_type": "stream",
     "text": [
      "Atividades Econômicas                                                                                               \tMunicípio           \tNúmero de Acidentes \n",
      "____________________________________________________________________________________________________________________\t____________________\t____________________\n",
      "Atividades de atendimento hospitalar                                                                                \tPorto Alegre        \t                 132\n",
      "Atividades de atendimento hospitalar                                                                                \tPasso Fundo         \t                  22\n",
      "Abate de suinos, aves e outros pequenos animais                                                                     \tLajeado             \t                  18\n",
      "Atividades de atendimento hospitalar                                                                                \tCaxias do Sul       \t                  16\n",
      "Atividades de atencao a saude humana nao especificadas anteriormente                                                \tIjui                \t                   9\n",
      "Atividades de Correio                                                                                               \tPorto Alegre        \t                   9\n",
      "Fabricacao de cabines, carrocerias e reboques para veiculos automotores                                             \tCaxias do Sul       \t                   9\n",
      "Abate de suinos, aves e outros pequenos animais                                                                     \tMarau               \t                   8\n",
      "Comercio varejista de mercadorias em geral, com predominancia de produtos alimenticios - hipermercados e supermercados\tPorto Alegre        \t                   8\n",
      "Transporte rodoviario de carga                                                                                      \tPorto Alegre        \t                   8\n",
      "Abate de suinos, aves e outros pequenos animais                                                                     \tSanta Rosa          \t                   8\n",
      "Producao de forjados de aco e de metais nao-ferrosos e suas ligas                                                   \tCanoas              \t                   8\n",
      "Fabricacao de maquinas e equipamentos para a agricultura e pecuaria, exceto para irrigacao                          \tNao-Me-Toque        \t                   7\n",
      "Cultivo de frutas de lavoura permanente, exceto laranja e uva                                                       \tVacaria             \t                   7\n",
      "Atividades de atendimento hospitalar                                                                                \tCanoas              \t                   7\n"
     ]
    }
   ],
   "source": [
    "resultado = db.G01.aggregate([\n",
    "                        {\"$group\":{\"_id\": {\"CNAE_DENOMINACAO\":\"$CNAE_DENOMINACAO\", \n",
    "                                           \"MUNICIPIO\":\"$MUNICIPIO\"},\n",
    "                                   \"NUMACIDS\": {\"$sum\":1}}},\n",
    "                        {\"$sort\":{\"NUMACIDS\" : -1}},\n",
    "                        {\"$limit\":15} ])\n",
    "\n",
    "print(\"{:116}\\t{:20}\\t{:20}\".format(\"Atividades Econômicas\", \"Município\", \"Número de Acidentes\" ))\n",
    "print(\"{:_<116}\\t{:_<20}\\t{:_<20}\".format(\"_\", \"_\", \"_\"))\n",
    "for documento in resultado:    \n",
    "    print(\"{:116}\\t{:20}\\t{:20}\".format(\n",
    "            documento[\"_id\"][\"CNAE_DENOMINACAO\"],\n",
    "            documento[\"_id\"][\"MUNICIPIO\"],\n",
    "            documento[\"NUMACIDS\"]))"
   ]
  },
  {
   "cell_type": "markdown",
   "metadata": {},
   "source": [
    "4- Ordenados por mês/ano, denominações das atividades econômicas e número de acidentes, filtrando por agente causador de acidente, sexo e atividade econômica. (escolham uma trinca (agente causador de acidente, sexo e atividade econômica) que permita a consulta retornar entre 5 e 30 linhas)."
   ]
  },
  {
   "cell_type": "code",
   "execution_count": 10,
   "metadata": {},
   "outputs": [
    {
     "name": "stdout",
     "output_type": "stream",
     "text": [
      "Atividades Econômicas                   \tMês/Ano do Acidente \tNúmero de Acidentes \n",
      "________________________________________\t____________________\t____________________\n",
      "Atividades de atendimento hospitalar    \t2019-10-01          \t                   7\n",
      "Atividades de atendimento hospitalar    \t2019-11-01          \t                  10\n",
      "Atividades de atendimento hospitalar    \t2019-12-01          \t                   5\n",
      "Atividades de atendimento hospitalar    \t2020-01-01          \t                   6\n",
      "Atividades de atendimento hospitalar    \t2020-02-01          \t                   2\n",
      "Atividades de atendimento hospitalar    \t2020-03-01          \t                   5\n"
     ]
    }
   ],
   "source": [
    "resultado = db.G01.aggregate([\n",
    "                        {\"$match\":{\"AGENTE_CAUSADOR_ACIDENTE\":\"Agente Infeccioso ou\",\n",
    "                                   \"SEXO\":\"Feminino\", \n",
    "                                   \"CNAE_DENOMINACAO\":\"Atividades de atendimento hospitalar\",\n",
    "                                  }},\n",
    "                        {\"$group\":{\"_id\": {\"AGENTE_CAUSADOR_ACIDENTE\":\"$AGENTE_CAUSADOR_ACIDENTE\",\n",
    "                                           \"SEXO\":\"$SEXO\",\n",
    "                                           \"CNAE_DENOMINACAO\":\"$CNAE_DENOMINACAO\", \n",
    "                                           \"MES_ANO_ACIDENTE\":\"$MES_ANO_ACIDENTE\"},\n",
    "                                   \"NUMACIDS\": {\"$sum\":1}}},\n",
    "                        {\"$sort\":{\"_id.MES_ANO_ACIDENTE\":1,\n",
    "                                  \"_id.CNAE_DENOMINACAO\":1,\n",
    "                                  \"NUMACIDS\":1}} ])\n",
    "\n",
    "print(\"{:40}\\t{:20}\\t{:20}\".format(\"Atividades Econômicas\", \"Mês/Ano do Acidente\", \"Número de Acidentes\" ))\n",
    "print(\"{:_<40}\\t{:_<20}\\t{:_<20}\".format(\"_\", \"_\", \"_\"))\n",
    "for documento in resultado:    \n",
    "    print(\"{:40}\\t{:20}\\t{:20}\".format(\n",
    "            documento[\"_id\"][\"CNAE_DENOMINACAO\"],\n",
    "            documento[\"_id\"][\"MES_ANO_ACIDENTE\"],\n",
    "            documento[\"NUMACIDS\"]))"
   ]
  },
  {
   "cell_type": "markdown",
   "metadata": {},
   "source": [
    "5- Listar os 10 municípios e respectivas populações com as maiores taxas de acidentes por 100.000 habitantes."
   ]
  },
  {
   "cell_type": "code",
   "execution_count": 11,
   "metadata": {},
   "outputs": [
    {
     "name": "stdout",
     "output_type": "stream",
     "text": [
      "Município             \tPopulação   \tTaxa acidentes 100 mil hab. \n",
      "______________________\t____________\t____________________________\n",
      "Vila Langaro          \t        2102\t          142.72121788772597\n",
      "Paulo Bento           \t        2287\t            87.4508089199825\n",
      "Nova Araça            \t        4690\t           85.28784648187633\n",
      "Nova Bassano          \t        9824\t           71.25407166123779\n",
      "Carlos Gomes          \t        1404\t           71.22507122507123\n",
      "Vila Maria            \t        4353\t           68.91798759476224\n",
      "Westfalia             \t        2998\t           66.71114076050699\n",
      "Tio Hugo              \t        3004\t           66.57789613848203\n",
      "Coqueiro Baixo        \t        1507\t              66.35700066357\n",
      "Nao-Me-Toque          \t       17484\t           57.19514985129261\n"
     ]
    }
   ],
   "source": [
    "resultado = db.G01.aggregate([\n",
    "                        {\"$group\":{\"_id\": {\"MUNICIPIO\":\"$MUNICIPIO\", \n",
    "                                           \"POPULACAO\":\"$POPULACAO\"},\n",
    "                                  \"NUMACIDS\": {\"$sum\":1}}},\n",
    "                        {\"$project\": {\"TAXA_ACIDENTES_100MIL_HAB\": {\"$multiply\":[{\"$divide\": [\"$NUMACIDS\", \"$_id.POPULACAO\"]}, 100000]}}},\n",
    "                        {\"$sort\":{\"TAXA_ACIDENTES_100MIL_HAB\" : -1}},\n",
    "                        {\"$limit\":10}])\n",
    "\n",
    "print(\"{:22}\\t{:12}\\t{:28}\".format(\"Município\", \"População\", \"Taxa acidentes 100 mil hab.\"))\n",
    "print(\"{:_<22}\\t{:_<12}\\t{:_<28}\".format(\"_\", \"_\", \"_\"))\n",
    "for documento in resultado:    \n",
    "    print(\"{:22}\\t{:12}\\t{:28}\".format(documento[\"_id\"][\"MUNICIPIO\"],\n",
    "                                       documento[\"_id\"][\"POPULACAO\"],\n",
    "                                       documento[\"TAXA_ACIDENTES_100MIL_HAB\"]))    "
   ]
  }
 ],
 "metadata": {
  "kernelspec": {
   "display_name": "Python 3",
   "language": "python",
   "name": "python3"
  },
  "language_info": {
   "codemirror_mode": {
    "name": "ipython",
    "version": 3
   },
   "file_extension": ".py",
   "mimetype": "text/x-python",
   "name": "python",
   "nbconvert_exporter": "python",
   "pygments_lexer": "ipython3",
   "version": "3.8.3"
  }
 },
 "nbformat": 4,
 "nbformat_minor": 4
}
